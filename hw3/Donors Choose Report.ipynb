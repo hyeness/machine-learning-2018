{
 "cells": [
  {
   "cell_type": "markdown",
   "metadata": {},
   "source": [
    "<br>\n",
    "<h1><center>Evaluation of Models on Predicting Fundraising Project Success</center></h1>\n",
    "\n",
    "## Kaggle Challenge Description\n",
    "\n",
    "DonorsChoose.org is an online charity that makes it easy to help students in need through school donations. At any time, thousands of teachers in K-12 schools propose projects requesting materials to enhance the education of their students. When a project reaches its funding goal, they ship the materials to the school.\n",
    "\n",
    "The 2014 KDD Cup asks participants to help DonorsChoose.org identify projects that are exceptionally exciting to the business, at the time of posting. While all projects on the site fulfill some kind of need, certain projects have a quality above and beyond what is typical. By identifying and recommending such projects early, they will improve funding outcomes, better the user experience, and help more students receive the materials they need to learn.\n",
    "\n",
    "Successful predictions may require a broad range of analytical skills, from natural language processing on the need statements to data mining and classical supervised learning on the descriptive factors around each project.\n",
    "\n",
    "[Full Page Here](https://www.kaggle.com/c/kdd-cup-2014-predicting-excitement-at-donors-choose)"
   ]
  },
  {
   "cell_type": "markdown",
   "metadata": {},
   "source": [
    "\n",
    "### Background and Objectives\n",
    "DonorsChoose.org is an online charity and crowdfunding platform that allows individuals to donate directly to public school classroom projects. The project postings come from teachers in K-12 schools requesting school materials ranging from basic school supplies like paper and pencil to technology requests like computers.\n",
    "\n",
    "The goal of this challenge is to predict, based on what we know about the project at the time of its posting, whether a project will be fully funded. Data we have include geographical information about schools, grade level, teachers, projected cost of project, and potential impact in number of students reached.\n",
    "\n",
    "### Temporal Holdout Framework\n",
    "Given data on 2011 to 2013, we reserve the final six month time period (2013-07-01 to 2013-12-31) to make a final prediction. We train models with various machine learning models using successively increasing time chunks, validating the models with the six months of data immediately following the training period. The details of the timeline used for model validation is shown below. This framework will be helpful in discerning whether models perform differently over time or there is an anomaly during a given period."
   ]
  },
  {
   "cell_type": "markdown",
   "metadata": {},
   "source": [
    "<img src=\"temporal_holdout.png\" alt=\"temporal holdout\" style=\"width: 500px;\"/>"
   ]
  },
  {
   "cell_type": "markdown",
   "metadata": {},
   "source": [
    "### Results of Models\n",
    "Our analysis sought to assess different models and parameters' efficiency and accuracy in predicting whether a project listed on DonorsChoose.org would receive full funding. Regarding efficiency, K-Nearest Neighbors and Support Vector Machines were extremely time-intensive to run, and, therefore have been deemed unsuitable and excluded from our comparison. A preliminary evaluation of KNN on the full training data took approximately 1,900 seconds.\n",
    "\n",
    "We fit six different learning algorithms (Random Forest, Decision Trees, Logistic Regression, Naive Bayes, Bagged Trees, and Boosted Trees) to the training set 1) using all features and 2) using only the top 20 \"important\" features computed using a random forest of trees for each training set and find the following:\n",
    "- In the case where we considered only important features, the model with the highest auc-roc was a random forest with a max depth of 5 at 0.66. In the case where we considered all features, a random forest with max depth of 50 had the highest auc-roc of 0.68. Given the baseline accuracy for the model is 0.71, the result is unimpressive.\n",
    "- However, all models perform better on precision than recall, maintaining a precision above 80% for those projects with the top 10% highest probability of being classified \"fully funded.\" While our models do not make many false positive predictions, they tend to misclassify those projects that might actually have a chance of being fully funded as having a low probability.\n"
   ]
  },
  {
   "cell_type": "code",
   "execution_count": 25,
   "metadata": {
    "scrolled": true
   },
   "outputs": [
    {
     "data": {
      "text/html": [
       "<div>\n",
       "<style>\n",
       "    .dataframe thead tr:only-child th {\n",
       "        text-align: right;\n",
       "    }\n",
       "\n",
       "    .dataframe thead th {\n",
       "        text-align: left;\n",
       "    }\n",
       "\n",
       "    .dataframe tbody tr th {\n",
       "        vertical-align: top;\n",
       "    }\n",
       "</style>\n",
       "<table border=\"1\" class=\"dataframe\">\n",
       "  <thead>\n",
       "    <tr style=\"text-align: right;\">\n",
       "      <th></th>\n",
       "      <th>feature</th>\n",
       "      <th>importance</th>\n",
       "    </tr>\n",
       "  </thead>\n",
       "  <tbody>\n",
       "    <tr>\n",
       "      <th>1</th>\n",
       "      <td>total_price_including_optional_support</td>\n",
       "      <td>0.143728</td>\n",
       "    </tr>\n",
       "    <tr>\n",
       "      <th>2</th>\n",
       "      <td>total_price_excluding_optional_support</td>\n",
       "      <td>0.143607</td>\n",
       "    </tr>\n",
       "    <tr>\n",
       "      <th>3</th>\n",
       "      <td>students_reached</td>\n",
       "      <td>0.119425</td>\n",
       "    </tr>\n",
       "    <tr>\n",
       "      <th>4</th>\n",
       "      <td>date_posted_month</td>\n",
       "      <td>0.105699</td>\n",
       "    </tr>\n",
       "    <tr>\n",
       "      <th>5</th>\n",
       "      <td>eligible_double_your_impact_match</td>\n",
       "      <td>0.020855</td>\n",
       "    </tr>\n",
       "  </tbody>\n",
       "</table>\n",
       "</div>"
      ],
      "text/plain": [
       "                                  feature  importance\n",
       "1  total_price_including_optional_support    0.143728\n",
       "2  total_price_excluding_optional_support    0.143607\n",
       "3                        students_reached    0.119425\n",
       "4                       date_posted_month    0.105699\n",
       "5       eligible_double_your_impact_match    0.020855"
      ]
     },
     "execution_count": 25,
     "metadata": {},
     "output_type": "execute_result"
    }
   ],
   "source": [
    "importance.head(5)"
   ]
  },
  {
   "cell_type": "markdown",
   "metadata": {},
   "source": [
    "### Recommendation Based on Feature Importance\n",
    "A natural thing to wonder and is most salient for teachers who seek to receive full funding for their projects is which features have the most predictive power or are most correlated with the outcome. Based on our results, we conclude that while our models perform better when we include everything we know about the project at the time of prediction, there are few variables that tend to drive the prediction. \n",
    "\n",
    "The following are the top 10 important features computed using a random forest of trees on the full training set. The importance of each feature drops after the top four. The total price of the project emerges as the most important determinant in funding. Number of students reached is also an important feature. Therefore, an interesting aspect to explore would be the tradeoff between the cost of a project vs. its potential impact."
   ]
  }
 ],
 "metadata": {
  "kernelspec": {
   "display_name": "Python 3",
   "language": "python",
   "name": "python3"
  },
  "language_info": {
   "codemirror_mode": {
    "name": "ipython",
    "version": 3
   },
   "file_extension": ".py",
   "mimetype": "text/x-python",
   "name": "python",
   "nbconvert_exporter": "python",
   "pygments_lexer": "ipython3",
   "version": "3.6.3"
  }
 },
 "nbformat": 4,
 "nbformat_minor": 2
}
